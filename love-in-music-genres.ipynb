{
 "cells": [
  {
   "cell_type": "markdown",
   "id": "70496cb5",
   "metadata": {},
   "source": [
    "# Love in Music Genres"
   ]
  },
  {
   "cell_type": "markdown",
   "id": "3f55d1c6",
   "metadata": {},
   "source": [
    "## Overview"
   ]
  },
  {
   "cell_type": "markdown",
   "id": "260a0e47",
   "metadata": {},
   "source": [
    "The main purpose of this project is to draw some general conclusions about how artists in different musical genres approach the theme of love in their songs.\n",
    "\n",
    "To achieve this goal, the project will examine a dataset of songs, searching for patterns that repeat within the same musical genre and that best represent the topic of love, but are also distinctive for the genre itself.\n",
    "\n",
    "To do this, we will follow the following steps:\n",
    "\n",
    "1. Construction of the dataset (of love songs only, divided by genre)\n",
    "2. Retrieval of the lyrics for each song\n",
    "3. Obtaining for each song the keywords related to the concept of love (two techniques will be used: word2vec and the study of features from a LinearSVC classifier trained on the dataset)\n",
    "4. Construction of a set of 30 representative keywords for each genre from the keywords of each song\n",
    "5. Sentiment analysis on the songs\n",
    "6. Sentiment analysis on the genre keywords\n",
    "\n",
    "The experimental results will be presented in the following two ways:\n",
    "\n",
    "1. Comparison of the keywords obtained with the two methods\n",
    "2. Comparison of the results of sentiment analysis"
   ]
  },
  {
   "cell_type": "markdown",
   "id": "34e82907",
   "metadata": {},
   "source": [
    "## Procedure"
   ]
  },
  {
   "cell_type": "markdown",
   "id": "5e6f32ab",
   "metadata": {},
   "source": [
    "### Step 0: Initialization"
   ]
  },
  {
   "cell_type": "markdown",
   "id": "acf00c4b",
   "metadata": {},
   "source": [
    "For the purposes of the project, a class named `Engine` has been developed. This class will function as an interface with other classes, facilitating the implementation of all the steps outlined above."
   ]
  },
  {
   "cell_type": "code",
   "execution_count": null,
   "id": "9a70ed44",
   "metadata": {},
   "outputs": [],
   "source": [
    "%load_ext autoreload\n",
    "%autoreload 2"
   ]
  },
  {
   "cell_type": "code",
   "execution_count": null,
   "id": "8bd8b0de",
   "metadata": {},
   "outputs": [],
   "source": [
    "!pip install gensim\n",
    "!pip install nltk\n",
    "!pip install bornrule"
   ]
  },
  {
   "cell_type": "code",
   "execution_count": 11,
   "id": "c16f2533",
   "metadata": {},
   "outputs": [],
   "source": [
    "import nltk\n",
    "from engine import *\n",
    "import pandas as pd\n",
    "\n",
    "#Init\n",
    "nltk.download('averaged_perceptron_tagger', quiet=True)\n",
    "Engine.init()"
   ]
  },
  {
   "cell_type": "markdown",
   "id": "1485645a",
   "metadata": {},
   "source": [
    "### Step 1: Building the dataset (getting the songs)"
   ]
  },
  {
   "cell_type": "markdown",
   "id": "d308ffdf",
   "metadata": {},
   "source": [
    "The dataset will be constructed using Spotify APIs, fetching 100 love songs for each of the initial genres (blues, country, metal, pop, rap, rock, soul).\n",
    "\n",
    "To achieve this, specific Spotify playlists were chosen in advance based on the genre, with a focus on love songs only. The playlist IDs were extracted and used through the API to retrieve 100 songs randomly chosen from each playlist.\n",
    "\n",
    "As a result, the final dataset counts a total of 700 songs.\n",
    "\n",
    "Please, note that if the database is already populated with songs, this method won't do anything (in order to let this method work you need to clean and reset the database first - check the appendix)."
   ]
  },
  {
   "cell_type": "code",
   "execution_count": null,
   "id": "ce195799",
   "metadata": {},
   "outputs": [],
   "source": [
    "#Populating the dataset with 700 different love songs, 100 for each genre.\n",
    "Engine.load_songs()"
   ]
  },
  {
   "cell_type": "markdown",
   "id": "0615a020",
   "metadata": {},
   "source": [
    "### Step 2: Download the lyrics for each song"
   ]
  },
  {
   "cell_type": "markdown",
   "id": "87114c39",
   "metadata": {},
   "source": [
    "For each song, the title and artist will be isolated, and these details will be used with the genius.com API (a well-known website that provides lyrics for searched songs).\n",
    "\n",
    "The Genius API allows obtaining a complete link to the lyrics of the searched song. Subsequently, web scraping of the song's lyrics page will be performed to isolate the text, clean it from unnecessary data, and then incorporate it into the dataset.\n",
    "\n",
    "Note: if everything goes fine with the \"load_songs()\" call, you can skip the \"load_lyrics()\" execution, because it is already embedded in the \"load_songs()\" method."
   ]
  },
  {
   "cell_type": "code",
   "execution_count": null,
   "id": "1f0e318e",
   "metadata": {},
   "outputs": [],
   "source": [
    "#Retrieving the lyrics from genius.com website -> result will be written in the column \"lyrics\" of the table \"songs\" of our SQLite database\n",
    "Engine.load_lyrics()"
   ]
  },
  {
   "cell_type": "markdown",
   "id": "26dc2c35",
   "metadata": {},
   "source": [
    "### Step 3: Extracting the keywords bound to \"love\" for each song"
   ]
  },
  {
   "cell_type": "markdown",
   "id": "53c5831f",
   "metadata": {},
   "source": [
    "For each song, love-related keywords will be extracted using two different methodologies:\n",
    "\n",
    "1. **Word2Vec:** Utilizing the Word2Vec technique.\n",
    "\n",
    "2. **LinearSVC:** Extracting features using a classifier trained on the dataset."
   ]
  },
  {
   "cell_type": "markdown",
   "id": "a9cedd1e",
   "metadata": {},
   "source": [
    "#### Step 3.1 Keywords using Word2Vec"
   ]
  },
  {
   "cell_type": "markdown",
   "id": "45cedbff",
   "metadata": {},
   "source": [
    "Word2Vec is a technique that allows representing words in a vector space, where words with similar contexts are assigned similar vectors. In this case study, we will keep as keywords the words with a vector similarity above a certain threshold with the word \"love\".\n",
    "\n",
    "We will use a pre-trained Word2Vec model to achieve this result."
   ]
  },
  {
   "cell_type": "code",
   "execution_count": null,
   "id": "e55551cd",
   "metadata": {},
   "outputs": [],
   "source": [
    "#Using word2vec to get the keywords bound to the concept of love\n",
    "# >>> Result will be written in the column \"keywords_w2v\" of the table \"songs\" of our SQLite database\n",
    "Engine.load_w2v_keywords()"
   ]
  },
  {
   "cell_type": "markdown",
   "id": "9647f967",
   "metadata": {},
   "source": [
    "#### Step 3.2 Keywords from LinearSVC's feature study"
   ]
  },
  {
   "cell_type": "markdown",
   "id": "3a688a81",
   "metadata": {},
   "source": [
    "LinearSVC is a linear classification algorithm that falls under the category of Support Vector Machines. In essence, it is designed to find a hyperplane that maximizes the separation of data represented in the feature space.\n",
    "\n",
    "For the project's purpose, LinearSVC is trained on the entire dataset. After the training is complete, the algorithm's coefficients assigned to each feature are analyzed. This analysis helps identify the most important features at the individual class level. In this case, these features are the words that lyrics are composed of, and those with coefficients above a certain threshold will be chosen as representative keywords for each sample."
   ]
  },
  {
   "cell_type": "code",
   "execution_count": null,
   "id": "a859085e",
   "metadata": {},
   "outputs": [],
   "source": [
    "#Training LinearSVC in order to get the coefficients for each word, and then extracting the words with high coefficient\n",
    "# >>> Result will be written in the colum \"keywords_tc\" of the table \"songs\" of our SQLite database\n",
    "Engine.load_tc_keywords()"
   ]
  },
  {
   "cell_type": "markdown",
   "id": "25e51d6e",
   "metadata": {},
   "source": [
    "### Step 4: Getting 30 representative keyword for each genre"
   ]
  },
  {
   "cell_type": "markdown",
   "id": "25301011",
   "metadata": {},
   "source": [
    "Starting from the keywords computed for each song (both from Word2Vec and LinearSVC), the TfIdf score will be calculated for each word concerning the genre. The \"documents\" for the TfIdf calculation will be constructed by merging at the genre level all the keywords from all the songs.\n",
    "\n",
    "This process allows obtaining a high score for words that are highly distinctive for a genre, and a low score for frequent words common to all genres or, conversely, infrequent words.\n",
    "\n",
    "For each genre, the top 30 words will be extracted, ordered by score. This procedure will be performed for both Word2Vec and LinearSVC keywords."
   ]
  },
  {
   "cell_type": "code",
   "execution_count": null,
   "id": "1180dd0b",
   "metadata": {},
   "outputs": [],
   "source": [
    "#Using TfIdf to get the words that better identify the genre\n",
    "# >>> Result wil be written in the colums \"top_kw_w2v\" (for the word2vec words) and \"top_kw_tc\" (for the LinearSVC words) of the table \"genres\" of our SQLite database\n",
    "Engine.load_genre_kws()"
   ]
  },
  {
   "cell_type": "markdown",
   "id": "79e6e698",
   "metadata": {},
   "source": [
    "### Step 5: Performing a sentiment analysis over the songs"
   ]
  },
  {
   "cell_type": "markdown",
   "id": "e262a1d9",
   "metadata": {},
   "source": [
    "A pre-trained zero-shot text classification model will be utilized to perform sentiment analysis on the lyrics of each song. The sentiment will be categorized as either \"positive\" or \"negative.\""
   ]
  },
  {
   "cell_type": "code",
   "execution_count": null,
   "id": "ec4bcf51",
   "metadata": {},
   "outputs": [],
   "source": [
    "#Using a zero-shot text-classification pre-trained model we perform a sentiment analysis over the song lyrics\n",
    "# >>> Result will be written in the column \"sentiment_zs\" of the table \"songs\" of our SQLite database\n",
    "Engine.load_song_sentiment()"
   ]
  },
  {
   "cell_type": "markdown",
   "id": "3f781a00",
   "metadata": {},
   "source": [
    "### Step 6: Performing a sentiment analysis over the genre keywords"
   ]
  },
  {
   "cell_type": "markdown",
   "id": "18ea9ca6",
   "metadata": {},
   "source": [
    "Using the same pre-trained zero-shot text classification model, a second sentiment analysis will be conducted on the 30 representative keywords for each genre, derived from both Word2Vec and LinearSVC."
   ]
  },
  {
   "cell_type": "code",
   "execution_count": null,
   "id": "eef0fbce",
   "metadata": {},
   "outputs": [],
   "source": [
    "#Using a zero-shot text-classification pre-trained model we perform a sentiment analysis over the representative keywords for each genre\n",
    "# >>> Result wil be written in the colums \"sentiment_zs_w2v\" (for the word2vec words) and \"sentiment_zs_tc\" (for the LinearSVC words) of the table \"genres\" of our SQLite database\n",
    "Engine.load_genre_sentiment()"
   ]
  },
  {
   "cell_type": "markdown",
   "id": "e49f7041",
   "metadata": {},
   "source": [
    "## Experimental Results"
   ]
  },
  {
   "cell_type": "markdown",
   "id": "b1a77ea9",
   "metadata": {},
   "source": [
    "### About keywords"
   ]
  },
  {
   "cell_type": "markdown",
   "id": "6fab632f",
   "metadata": {},
   "source": [
    "The following code will show some interesting facts about keywords:\n",
    "1. Unique keywords for each genres (important keyword within the song genres that do not appear significantly in other genres)\n",
    "2. The rateo of overlapping keywords (the number of keywords in common between Word2Vec and LinearSVC over the total number of different keywords)"
   ]
  },
  {
   "cell_type": "code",
   "execution_count": 13,
   "id": "35473e5c",
   "metadata": {},
   "outputs": [],
   "source": [
    "unique_w2v, unique_tc, over_keywds = Engine.compare_genre_keywords()"
   ]
  },
  {
   "cell_type": "markdown",
   "id": "166581ed",
   "metadata": {},
   "source": [
    "#### Unique Keywords for genre"
   ]
  },
  {
   "cell_type": "code",
   "execution_count": 14,
   "id": "7229d97b",
   "metadata": {},
   "outputs": [
    {
     "data": {
      "text/html": [
       "<div>\n",
       "<style scoped>\n",
       "    .dataframe tbody tr th:only-of-type {\n",
       "        vertical-align: middle;\n",
       "    }\n",
       "\n",
       "    .dataframe tbody tr th {\n",
       "        vertical-align: top;\n",
       "    }\n",
       "\n",
       "    .dataframe thead th {\n",
       "        text-align: right;\n",
       "    }\n",
       "</style>\n",
       "<table border=\"1\" class=\"dataframe\">\n",
       "  <thead>\n",
       "    <tr style=\"text-align: right;\">\n",
       "      <th></th>\n",
       "      <th>Word2Vec</th>\n",
       "      <th>LinearSVC</th>\n",
       "    </tr>\n",
       "  </thead>\n",
       "  <tbody>\n",
       "    <tr>\n",
       "      <th>blues</th>\n",
       "      <td>tears; loving</td>\n",
       "      <td>night; lonely; need; well; mine; mind; did; gone; rain; home; sun</td>\n",
       "    </tr>\n",
       "    <tr>\n",
       "      <th>country</th>\n",
       "      <td>crazy; hell; knows; dad</td>\n",
       "      <td>back; here; take; little; ever; tonight; town; kiss; song; left; old; hell; hair; high; crazy; down</td>\n",
       "    </tr>\n",
       "    <tr>\n",
       "      <th>metal</th>\n",
       "      <td>die; fucking</td>\n",
       "      <td>never; pain; too; die; light; something; please; close; inside; lost; taste; dead; enough; feels; found</td>\n",
       "    </tr>\n",
       "    <tr>\n",
       "      <th>pop</th>\n",
       "      <td>friends; knew; hate</td>\n",
       "      <td>na; oh; leave; head; everything; change; someone; words; new; fall; friends; walk; nobody; stop; face</td>\n",
       "    </tr>\n",
       "    <tr>\n",
       "      <th>rap</th>\n",
       "      <td>fuck; shit; ma; bitch; bitches; fucked; shawty; fuckin; really</td>\n",
       "      <td>make; gon; fuck; nigga; shit; more; bitch; told; same; hope; tryna; money; niggas; ride; ayy; hit; call; feelin</td>\n",
       "    </tr>\n",
       "    <tr>\n",
       "      <th>rock</th>\n",
       "      <td>dreams</td>\n",
       "      <td>is; forever; there; find; alone; nothing; all; am; hard; made; cry; hear; together; far; side; then</td>\n",
       "    </tr>\n",
       "    <tr>\n",
       "      <th>soul</th>\n",
       "      <td></td>\n",
       "      <td>love; baby; let; way; want; day; sweet; feeling; free; boy; live; really; show</td>\n",
       "    </tr>\n",
       "  </tbody>\n",
       "</table>\n",
       "</div>"
      ],
      "text/plain": [
       "                                                               Word2Vec  \\\n",
       "blues                                                     tears; loving   \n",
       "country                                         crazy; hell; knows; dad   \n",
       "metal                                                      die; fucking   \n",
       "pop                                                 friends; knew; hate   \n",
       "rap      fuck; shit; ma; bitch; bitches; fucked; shawty; fuckin; really   \n",
       "rock                                                             dreams   \n",
       "soul                                                                      \n",
       "\n",
       "                                                                                                               LinearSVC  \n",
       "blues                                                  night; lonely; need; well; mine; mind; did; gone; rain; home; sun  \n",
       "country              back; here; take; little; ever; tonight; town; kiss; song; left; old; hell; hair; high; crazy; down  \n",
       "metal            never; pain; too; die; light; something; please; close; inside; lost; taste; dead; enough; feels; found  \n",
       "pop                na; oh; leave; head; everything; change; someone; words; new; fall; friends; walk; nobody; stop; face  \n",
       "rap      make; gon; fuck; nigga; shit; more; bitch; told; same; hope; tryna; money; niggas; ride; ayy; hit; call; feelin  \n",
       "rock                 is; forever; there; find; alone; nothing; all; am; hard; made; cry; hear; together; far; side; then  \n",
       "soul                                      love; baby; let; way; want; day; sweet; feeling; free; boy; live; really; show  "
      ]
     },
     "execution_count": 14,
     "metadata": {},
     "output_type": "execute_result"
    }
   ],
   "source": [
    "rows = [genre[0] for genre in unique_w2v]\n",
    "cols = [\"Word2Vec\", \"LinearSVC\"]\n",
    "data = [ list(y) for y in list(zip([\"; \".join(x[1]) for x in  unique_w2v], [\"; \".join(x[1]) for x in  unique_tc])) ]\n",
    "\n",
    "pd.set_option('display.max_colwidth', None)\n",
    "\n",
    "pd.DataFrame(data, columns=cols, index=rows)"
   ]
  },
  {
   "cell_type": "markdown",
   "id": "a58cada6",
   "metadata": {},
   "source": [
    "#### Overlapping rateo for genre"
   ]
  },
  {
   "cell_type": "code",
   "execution_count": 19,
   "id": "d4038094",
   "metadata": {},
   "outputs": [
    {
     "data": {
      "text/html": [
       "<div>\n",
       "<style scoped>\n",
       "    .dataframe tbody tr th:only-of-type {\n",
       "        vertical-align: middle;\n",
       "    }\n",
       "\n",
       "    .dataframe tbody tr th {\n",
       "        vertical-align: top;\n",
       "    }\n",
       "\n",
       "    .dataframe thead th {\n",
       "        text-align: right;\n",
       "    }\n",
       "</style>\n",
       "<table border=\"1\" class=\"dataframe\">\n",
       "  <thead>\n",
       "    <tr style=\"text-align: right;\">\n",
       "      <th></th>\n",
       "      <th>Rateo</th>\n",
       "    </tr>\n",
       "  </thead>\n",
       "  <tbody>\n",
       "    <tr>\n",
       "      <th>blues</th>\n",
       "      <td>15.4%</td>\n",
       "    </tr>\n",
       "    <tr>\n",
       "      <th>country</th>\n",
       "      <td>11.1%</td>\n",
       "    </tr>\n",
       "    <tr>\n",
       "      <th>metal</th>\n",
       "      <td>17.6%</td>\n",
       "    </tr>\n",
       "    <tr>\n",
       "      <th>pop</th>\n",
       "      <td>13.2%</td>\n",
       "    </tr>\n",
       "    <tr>\n",
       "      <th>rap</th>\n",
       "      <td>13.2%</td>\n",
       "    </tr>\n",
       "    <tr>\n",
       "      <th>rock</th>\n",
       "      <td>13.2%</td>\n",
       "    </tr>\n",
       "    <tr>\n",
       "      <th>soul</th>\n",
       "      <td>20.0%</td>\n",
       "    </tr>\n",
       "  </tbody>\n",
       "</table>\n",
       "</div>"
      ],
      "text/plain": [
       "         Rateo\n",
       "blues    15.4%\n",
       "country  11.1%\n",
       "metal    17.6%\n",
       "pop      13.2%\n",
       "rap      13.2%\n",
       "rock     13.2%\n",
       "soul     20.0%"
      ]
     },
     "execution_count": 19,
     "metadata": {},
     "output_type": "execute_result"
    }
   ],
   "source": [
    "rows = [genre[0] for genre in unique_w2v]\n",
    "cols = [\"Rateo\"]\n",
    "data = [\"{:.1f}\".format(x[1]*100) + \"%\" for x in  over_keywds]\n",
    "\n",
    "pd.set_option('display.max_colwidth', None)\n",
    "\n",
    "pd.DataFrame(data, columns=cols, index=rows)"
   ]
  },
  {
   "cell_type": "markdown",
   "id": "c55a41c3",
   "metadata": {},
   "source": [
    "### About sentiment analysis"
   ]
  },
  {
   "cell_type": "markdown",
   "id": "ee4f4a70",
   "metadata": {},
   "source": [
    "The following code, instead, will show some interesting facts about sentiment. The following tables will show:\n",
    "1. a detail over sentiments calculated over songs, over Word2Vec genre keywords, and over LinearSVC\n",
    "2. a comparison between sentiments, telling if the different techniques gave the same results\n"
   ]
  },
  {
   "cell_type": "code",
   "execution_count": 15,
   "id": "4a7ffaf8",
   "metadata": {},
   "outputs": [],
   "source": [
    "sentiments, report_s = Engine.compare_sentiments()"
   ]
  },
  {
   "cell_type": "markdown",
   "id": "37b5a81d",
   "metadata": {},
   "source": [
    "#### Detail over sentiment\n",
    "This table shows the predicted sentiment over:\n",
    "1. song lyrics (at a genre level: so the sentiment for a genre is calculated as the sentiment that had the maximum number of occurrences)\n",
    "2. Word2Vec keywords (treated as a documents composed of the relevant genre keywords)\n",
    "3. LinearSVC keywords (treated as documents composed of the relevant genre keywords)"
   ]
  },
  {
   "cell_type": "code",
   "execution_count": 17,
   "id": "7362df41",
   "metadata": {},
   "outputs": [
    {
     "data": {
      "text/html": [
       "<div>\n",
       "<style scoped>\n",
       "    .dataframe tbody tr th:only-of-type {\n",
       "        vertical-align: middle;\n",
       "    }\n",
       "\n",
       "    .dataframe tbody tr th {\n",
       "        vertical-align: top;\n",
       "    }\n",
       "\n",
       "    .dataframe thead th {\n",
       "        text-align: right;\n",
       "    }\n",
       "</style>\n",
       "<table border=\"1\" class=\"dataframe\">\n",
       "  <thead>\n",
       "    <tr style=\"text-align: right;\">\n",
       "      <th></th>\n",
       "      <th>Sentiment from songs</th>\n",
       "      <th>Sentiment from W2V keywords</th>\n",
       "      <th>Sentiment from LSVC keywords</th>\n",
       "    </tr>\n",
       "  </thead>\n",
       "  <tbody>\n",
       "    <tr>\n",
       "      <th>blues</th>\n",
       "      <td>negative</td>\n",
       "      <td>positive</td>\n",
       "      <td>negative</td>\n",
       "    </tr>\n",
       "    <tr>\n",
       "      <th>country</th>\n",
       "      <td>negative</td>\n",
       "      <td>negative</td>\n",
       "      <td>negative</td>\n",
       "    </tr>\n",
       "    <tr>\n",
       "      <th>metal</th>\n",
       "      <td>negative</td>\n",
       "      <td>negative</td>\n",
       "      <td>negative</td>\n",
       "    </tr>\n",
       "    <tr>\n",
       "      <th>pop</th>\n",
       "      <td>negative</td>\n",
       "      <td>negative</td>\n",
       "      <td>negative</td>\n",
       "    </tr>\n",
       "    <tr>\n",
       "      <th>rap</th>\n",
       "      <td>negative</td>\n",
       "      <td>negative</td>\n",
       "      <td>negative</td>\n",
       "    </tr>\n",
       "    <tr>\n",
       "      <th>rock</th>\n",
       "      <td>negative</td>\n",
       "      <td>negative</td>\n",
       "      <td>negative</td>\n",
       "    </tr>\n",
       "    <tr>\n",
       "      <th>soul</th>\n",
       "      <td>positive</td>\n",
       "      <td>positive</td>\n",
       "      <td>positive</td>\n",
       "    </tr>\n",
       "  </tbody>\n",
       "</table>\n",
       "</div>"
      ],
      "text/plain": [
       "        Sentiment from songs Sentiment from W2V keywords  \\\n",
       "blues               negative                    positive   \n",
       "country             negative                    negative   \n",
       "metal               negative                    negative   \n",
       "pop                 negative                    negative   \n",
       "rap                 negative                    negative   \n",
       "rock                negative                    negative   \n",
       "soul                positive                    positive   \n",
       "\n",
       "        Sentiment from LSVC keywords  \n",
       "blues                       negative  \n",
       "country                     negative  \n",
       "metal                       negative  \n",
       "pop                         negative  \n",
       "rap                         negative  \n",
       "rock                        negative  \n",
       "soul                        positive  "
      ]
     },
     "execution_count": 17,
     "metadata": {},
     "output_type": "execute_result"
    }
   ],
   "source": [
    "rows = []\n",
    "cols = [\"Sentiment from songs\", \"Sentiment from W2V keywords\", \"Sentiment from LSVC keywords\"]\n",
    "data = []\n",
    "for s in sentiments:\n",
    "    rows.append(s)\n",
    "    data.append(sentiments[s])\n",
    "\n",
    "pd.set_option('display.max_colwidth', None)\n",
    "\n",
    "pd.DataFrame(data, columns=cols, index=rows)"
   ]
  },
  {
   "cell_type": "markdown",
   "id": "526fd188",
   "metadata": {},
   "source": [
    "#### Sentiment comparison\n",
    "The following table will show how the different techniques used agree with each others over the sentiment prediction"
   ]
  },
  {
   "cell_type": "code",
   "execution_count": 18,
   "id": "ae22159c",
   "metadata": {},
   "outputs": [
    {
     "data": {
      "text/html": [
       "<div>\n",
       "<style scoped>\n",
       "    .dataframe tbody tr th:only-of-type {\n",
       "        vertical-align: middle;\n",
       "    }\n",
       "\n",
       "    .dataframe tbody tr th {\n",
       "        vertical-align: top;\n",
       "    }\n",
       "\n",
       "    .dataframe thead th {\n",
       "        text-align: right;\n",
       "    }\n",
       "</style>\n",
       "<table border=\"1\" class=\"dataframe\">\n",
       "  <thead>\n",
       "    <tr style=\"text-align: right;\">\n",
       "      <th></th>\n",
       "      <th>Agreement Percentage</th>\n",
       "    </tr>\n",
       "  </thead>\n",
       "  <tbody>\n",
       "    <tr>\n",
       "      <th>Word2Vec vs LinearSVC</th>\n",
       "      <td>85.7%</td>\n",
       "    </tr>\n",
       "    <tr>\n",
       "      <th>Song sentiments vs Word2Vec</th>\n",
       "      <td>85.7%</td>\n",
       "    </tr>\n",
       "    <tr>\n",
       "      <th>Song sentiments vs LinearSVC</th>\n",
       "      <td>100.0%</td>\n",
       "    </tr>\n",
       "    <tr>\n",
       "      <th>Total Agreement</th>\n",
       "      <td>85.7%</td>\n",
       "    </tr>\n",
       "  </tbody>\n",
       "</table>\n",
       "</div>"
      ],
      "text/plain": [
       "                             Agreement Percentage\n",
       "Word2Vec vs LinearSVC                       85.7%\n",
       "Song sentiments vs Word2Vec                 85.7%\n",
       "Song sentiments vs LinearSVC               100.0%\n",
       "Total Agreement                             85.7%"
      ]
     },
     "execution_count": 18,
     "metadata": {},
     "output_type": "execute_result"
    }
   ],
   "source": [
    "titles = { \"w2v_vs_tc\" : \"Word2Vec vs LinearSVC\", \"songs_vs_w2v\": \"Song sentiments vs Word2Vec\", \"songs_vs_tc\" : \"Song sentiments vs LinearSVC\", \"total\" : \"Total Agreement\"}\n",
    "cols = [\"Agreement Percentage\"]\n",
    "rows = []\n",
    "data = []\n",
    "\n",
    "for e in report_s:\n",
    "    rows.append(titles[e])\n",
    "    data.append(\"{:.1f}\".format(report_s[e]*100) + \"%\")\n",
    "\n",
    "pd.set_option('display.max_colwidth', None)\n",
    "\n",
    "pd.DataFrame(data, columns=cols, index=rows)"
   ]
  },
  {
   "cell_type": "markdown",
   "id": "d06ffec0",
   "metadata": {},
   "source": [
    "## Appendix"
   ]
  },
  {
   "cell_type": "markdown",
   "id": "190b80f6",
   "metadata": {},
   "source": [
    "### Reset dataset commands"
   ]
  },
  {
   "cell_type": "markdown",
   "id": "909443f3",
   "metadata": {},
   "source": [
    "The following command will create a backup of the current database in use and then clear the database in order to make possible to execute again the commands from the beginning (otherwise, commands described in steps 1 to 6 won't make any change)."
   ]
  },
  {
   "cell_type": "code",
   "execution_count": null,
   "id": "69ca25f6",
   "metadata": {},
   "outputs": [],
   "source": [
    "# Dataset reset\n",
    "Engine.reset_database()"
   ]
  }
 ],
 "metadata": {
  "kernelspec": {
   "display_name": "Python 3",
   "language": "python",
   "name": "python3"
  },
  "language_info": {
   "codemirror_mode": {
    "name": "ipython",
    "version": 3
   },
   "file_extension": ".py",
   "mimetype": "text/x-python",
   "name": "python",
   "nbconvert_exporter": "python",
   "pygments_lexer": "ipython3",
   "version": "3.8.11"
  }
 },
 "nbformat": 4,
 "nbformat_minor": 5
}
